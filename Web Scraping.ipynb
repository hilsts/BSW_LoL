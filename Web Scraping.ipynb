{
 "cells": [
  {
   "cell_type": "code",
   "execution_count": 1,
   "metadata": {},
   "outputs": [],
   "source": [
    "%config Completer.use_jedi = False\n"
   ]
  },
  {
   "cell_type": "markdown",
   "metadata": {},
   "source": [
    "### Imports"
   ]
  },
  {
   "cell_type": "code",
   "execution_count": 2,
   "metadata": {},
   "outputs": [],
   "source": [
    "import requests\n",
    "import pandas as pd\n",
    "from bs4 import BeautifulSoup\n",
    "import re"
   ]
  },
  {
   "cell_type": "markdown",
   "metadata": {},
   "source": [
    "### Pick bans"
   ]
  },
  {
   "cell_type": "code",
   "execution_count": 10,
   "metadata": {
    "scrolled": true
   },
   "outputs": [
    {
     "name": "stdout",
     "output_type": "stream",
     "text": [
      "LJL+2021+Spring csv saved!\n",
      "LEC+2021+Spring csv saved!\n",
      "LCS+2021+Spring csv saved!\n",
      "LPL+2021+Spring csv saved!\n",
      "LCK+2021+Spring csv saved!\n",
      "LCL+2021+Spring csv saved!\n",
      "PCS+2021+Spring csv saved!\n",
      "VCS+2021+Spring csv saved!\n",
      "CBLOL+2021+Split+1 csv saved!\n"
     ]
    }
   ],
   "source": [
    "BASE_PATH_PB = 'https://lol.gamepedia.com/Special:RunQuery/PickBanHistory?PBH%5Bpage%5D={LEAGUE}&PBH%5Btextonly%5D=Yes&pfRunQueryFormName=PickBanHistory'\n",
    "\n",
    "leagues = [\n",
    "    'LJL+2021+Spring',\n",
    "    'LEC+2021+Spring',\n",
    "    'LCS+2021+Spring',\n",
    "    'LPL+2021+Spring',\n",
    "    'LCK+2021+Spring',\n",
    "    'LCL+2021+Spring',\n",
    "    'PCS+2021+Spring',\n",
    "    'VCS+2021+Spring',\n",
    "    'CBLOL+2021+Split+1'\n",
    "]\n",
    "\n",
    "for league in leagues:\n",
    "    \n",
    "    try:\n",
    "        # create url for each league\n",
    "        url = BASE_PATH_PB.format(LEAGUE=league)\n",
    "        # get the html from each url and parse it\n",
    "        r = requests.get(url)\n",
    "        html = r.content\n",
    "        soup = BeautifulSoup(html, 'html.parser')\n",
    "        # header with columns names from the pb tables\n",
    "        header = soup.table.find_all('th')\n",
    "        # remove description\n",
    "        x = header[1:]\n",
    "        # clean html tags to get only text\n",
    "        columns = [re.findall(r'\\>(.*?)\\<', str(txt))[0] for txt in x]\n",
    "        # get raw data with html trash\n",
    "        raw_data = soup.table.find_all('td')\n",
    "        # clean html tags from data\n",
    "        data = [re.findall(r'\\>(.*?)\\<', str(txt)) for txt in raw_data]\n",
    "        # transform data with indentify_row function\n",
    "        clear_data = identify_row(data)\n",
    "        # create df with clear data\n",
    "        df = pd.DataFrame(clear_data)\n",
    "        # define df columns       \n",
    "        df.columns = columns\n",
    "        # save with league PB data\n",
    "        df.to_csv('data/{league}+PB.csv'.format(league=league))\n",
    "\n",
    "        print('{league} csv saved!'.format(league=league))\n",
    "    \n",
    "    except:\n",
    "\n",
    "        print('Error in {league}'.format(league=league))\n"
   ]
  },
  {
   "cell_type": "markdown",
   "metadata": {},
   "source": [
    "### Functions"
   ]
  },
  {
   "cell_type": "code",
   "execution_count": 6,
   "metadata": {},
   "outputs": [],
   "source": [
    "'''\n",
    "    hardcoded function to detect row pattern on data\n",
    "'''\n",
    "def identify_row(data):\n",
    "    clear_data = []\n",
    "    for cell in data:\n",
    "        if len(cell) > 1:\n",
    "            temp_list = []\n",
    "            temp_list.append(cell[1])\n",
    "        else:\n",
    "            temp_list.append(cell[0])\n",
    "        \n",
    "        if len(temp_list) == len(columns):\n",
    "            clear_data.append(temp_list)\n",
    "            \n",
    "    return clear_data"
   ]
  },
  {
   "cell_type": "code",
   "execution_count": 3,
   "metadata": {},
   "outputs": [
    {
     "data": {
      "text/plain": [
       "['10505416363362']"
      ]
     },
     "execution_count": 3,
     "metadata": {},
     "output_type": "execute_result"
    }
   ],
   "source": [
    "import re\n",
    "string = 'ComX200_Tecnoparque Ent_10505416363362_20210120030001.xml'\n",
    "\n",
    "\n",
    "re.findall(r'\\_(\\d+)\\_', string)"
   ]
  }
 ],
 "metadata": {
  "kernelspec": {
   "display_name": "Python 3",
   "language": "python",
   "name": "python3"
  },
  "language_info": {
   "codemirror_mode": {
    "name": "ipython",
    "version": 3
   },
   "file_extension": ".py",
   "mimetype": "text/x-python",
   "name": "python",
   "nbconvert_exporter": "python",
   "pygments_lexer": "ipython3",
   "version": "3.8.5"
  }
 },
 "nbformat": 4,
 "nbformat_minor": 4
}
